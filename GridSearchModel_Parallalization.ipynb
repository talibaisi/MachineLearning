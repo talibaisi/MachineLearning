{
 "cells": [
  {
   "cell_type": "code",
   "execution_count": 2,
   "metadata": {},
   "outputs": [
    {
     "name": "stderr",
     "output_type": "stream",
     "text": [
      "[Parallel(n_jobs=-1)]: Using backend LokyBackend with 8 concurrent workers.\n"
     ]
    },
    {
     "name": "stdout",
     "output_type": "stream",
     "text": [
      "Fitting 5 folds for each of 2000 candidates, totalling 10000 fits\n"
     ]
    },
    {
     "name": "stderr",
     "output_type": "stream",
     "text": [
      "[Parallel(n_jobs=-1)]: Done  34 tasks      | elapsed:    5.8s\n",
      "[Parallel(n_jobs=-1)]: Done 920 tasks      | elapsed:   10.0s\n",
      "[Parallel(n_jobs=-1)]: Done 2920 tasks      | elapsed:   19.7s\n",
      "[Parallel(n_jobs=-1)]: Done 5720 tasks      | elapsed:   34.2s\n",
      "[Parallel(n_jobs=-1)]: Done 9320 tasks      | elapsed:   54.3s\n",
      "[Parallel(n_jobs=-1)]: Done 10000 out of 10000 | elapsed:   58.4s finished\n",
      "C:\\Users\\thaer.alibaisi\\Anaconda31\\lib\\site-packages\\sklearn\\linear_model\\_logistic.py:762: ConvergenceWarning: lbfgs failed to converge (status=1):\n",
      "STOP: TOTAL NO. of ITERATIONS REACHED LIMIT.\n",
      "\n",
      "Increase the number of iterations (max_iter) or scale the data as shown in:\n",
      "    https://scikit-learn.org/stable/modules/preprocessing.html\n",
      "Please also refer to the documentation for alternative solver options:\n",
      "    https://scikit-learn.org/stable/modules/linear_model.html#logistic-regression\n",
      "  n_iter_i = _check_optimize_result(\n"
     ]
    }
   ],
   "source": [
    "# Load libraries\n",
    "import numpy as np\n",
    "from sklearn import linear_model, datasets\n",
    "from sklearn.model_selection import GridSearchCV\n",
    "# Load data\n",
    "iris = datasets.load_iris()\n",
    "features = iris.data\n",
    "target = iris.target\n",
    "# Create logistic regression\n",
    "logistic = linear_model.LogisticRegression()\n",
    "# Create range of candidate regularization penalty hyperparameter values\n",
    "penalty = [\"l1\", \"l2\"]\n",
    "# Create range of candidate values for C\n",
    "C = np.logspace(0, 4, 1000)\n",
    "# Create hyperparameter options\n",
    "hyperparameters = dict(C=C, penalty=penalty)\n",
    "# Create grid search\n",
    "gridsearch = GridSearchCV(logistic, hyperparameters, cv=5, n_jobs=-1, verbose=1)\n",
    "# Fit grid search\n",
    "best_model = gridsearch.fit(features, target)"
   ]
  },
  {
   "cell_type": "code",
   "execution_count": 3,
   "metadata": {},
   "outputs": [
    {
     "data": {
      "text/plain": [
       "GridSearchCV(cv=5, estimator=LogisticRegression(), n_jobs=-1,\n",
       "             param_grid={'C': array([1.00000000e+00, 1.00926219e+00, 1.01861017e+00, 1.02804473e+00,\n",
       "       1.03756668e+00, 1.04717682e+00, 1.05687597e+00, 1.06666496e+00,\n",
       "       1.07654461e+00, 1.08651577e+00, 1.09657929e+00, 1.10673602e+00,\n",
       "       1.11698682e+00, 1.12733256e+00, 1.13777413e+00, 1.14831241e+00,\n",
       "       1.15894830e+00, 1.16968270e+0...\n",
       "       8.08924349e+03, 8.16416760e+03, 8.23978568e+03, 8.31610415e+03,\n",
       "       8.39312950e+03, 8.47086827e+03, 8.54932707e+03, 8.62851257e+03,\n",
       "       8.70843150e+03, 8.78909065e+03, 8.87049689e+03, 8.95265713e+03,\n",
       "       9.03557835e+03, 9.11926760e+03, 9.20373200e+03, 9.28897872e+03,\n",
       "       9.37501502e+03, 9.46184819e+03, 9.54948564e+03, 9.63793480e+03,\n",
       "       9.72720319e+03, 9.81729841e+03, 9.90822810e+03, 1.00000000e+04]),\n",
       "                         'penalty': ['l1', 'l2']},\n",
       "             verbose=1)"
      ]
     },
     "execution_count": 3,
     "metadata": {},
     "output_type": "execute_result"
    }
   ],
   "source": [
    "best_model"
   ]
  },
  {
   "cell_type": "code",
   "execution_count": null,
   "metadata": {},
   "outputs": [],
   "source": []
  }
 ],
 "metadata": {
  "kernelspec": {
   "display_name": "Python 3",
   "language": "python",
   "name": "python3"
  },
  "language_info": {
   "codemirror_mode": {
    "name": "ipython",
    "version": 3
   },
   "file_extension": ".py",
   "mimetype": "text/x-python",
   "name": "python",
   "nbconvert_exporter": "python",
   "pygments_lexer": "ipython3",
   "version": "3.8.5"
  }
 },
 "nbformat": 4,
 "nbformat_minor": 4
}
