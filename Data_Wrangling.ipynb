{
  "nbformat": 4,
  "nbformat_minor": 0,
  "metadata": {
    "colab": {
      "name": "Untitled7.ipynb",
      "provenance": [],
      "collapsed_sections": [],
      "authorship_tag": "ABX9TyPcXbHwIW9Mvu1J3sLmarzv",
      "include_colab_link": true
    },
    "kernelspec": {
      "name": "python3",
      "display_name": "Python 3"
    }
  },
  "cells": [
    {
      "cell_type": "markdown",
      "metadata": {
        "id": "view-in-github",
        "colab_type": "text"
      },
      "source": [
        "<a href=\"https://colab.research.google.com/github/talibaisi/MachineLearning/blob/main/Data_Wrangling.ipynb\" target=\"_parent\"><img src=\"https://colab.research.google.com/assets/colab-badge.svg\" alt=\"Open In Colab\"/></a>"
      ]
    },
    {
      "cell_type": "code",
      "metadata": {
        "colab": {
          "base_uri": "https://localhost:8080/"
        },
        "id": "bxQVee7UjK-_",
        "outputId": "d949d3ef-b669-4492-cc66-9db6ce8930f0"
      },
      "source": [
        "from pandas import read_csv\r\n",
        "headernames = ['preg', 'plas', 'pres', 'skin', 'test', 'mass', 'pedi', 'age', 'class']\r\n",
        "\r\n",
        "print('Hello Python')"
      ],
      "execution_count": 7,
      "outputs": [
        {
          "output_type": "stream",
          "text": [
            "Hello Python\n"
          ],
          "name": "stdout"
        }
      ]
    },
    {
      "cell_type": "code",
      "metadata": {
        "id": "Vs0SA2KYmDxQ"
      },
      "source": [
        ""
      ],
      "execution_count": null,
      "outputs": []
    },
    {
      "cell_type": "code",
      "metadata": {
        "id": "mr81DGJwlBdc"
      },
      "source": [
        "data = read_csv('/content/pima-indians-diabetes.csv')"
      ],
      "execution_count": 10,
      "outputs": []
    },
    {
      "cell_type": "code",
      "metadata": {
        "colab": {
          "base_uri": "https://localhost:8080/"
        },
        "id": "jgiCYnKamFLK",
        "outputId": "3f387a1e-4516-420c-931f-33b5b0b99b38"
      },
      "source": [
        "data.shape"
      ],
      "execution_count": 11,
      "outputs": [
        {
          "output_type": "execute_result",
          "data": {
            "text/plain": [
              "(768, 9)"
            ]
          },
          "metadata": {
            "tags": []
          },
          "execution_count": 11
        }
      ]
    },
    {
      "cell_type": "code",
      "metadata": {
        "colab": {
          "base_uri": "https://localhost:8080/"
        },
        "id": "GndgqvO3mSdY",
        "outputId": "85da07ed-c4f5-4385-c233-cc739fb04c8f"
      },
      "source": [
        "data.dtypes"
      ],
      "execution_count": 12,
      "outputs": [
        {
          "output_type": "execute_result",
          "data": {
            "text/plain": [
              "preg       int64\n",
              "plas       int64\n",
              "pres       int64\n",
              "skin       int64\n",
              "test       int64\n",
              "mass     float64\n",
              "pedi     float64\n",
              "age        int64\n",
              "class      int64\n",
              "dtype: object"
            ]
          },
          "metadata": {
            "tags": []
          },
          "execution_count": 12
        }
      ]
    },
    {
      "cell_type": "code",
      "metadata": {
        "colab": {
          "base_uri": "https://localhost:8080/",
          "height": 311
        },
        "id": "T0-XAQuRmZAm",
        "outputId": "45e8397b-5685-4b70-ad66-55c37f18fae1"
      },
      "source": [
        "from pandas import set_option\r\n",
        "set_option('display.width', 100)\r\n",
        "set_option('precision', 2)\r\n",
        "print(data.shape)\r\n",
        "data.describe()"
      ],
      "execution_count": 15,
      "outputs": [
        {
          "output_type": "stream",
          "text": [
            "(768, 9)\n"
          ],
          "name": "stdout"
        },
        {
          "output_type": "execute_result",
          "data": {
            "text/html": [
              "<div>\n",
              "<style scoped>\n",
              "    .dataframe tbody tr th:only-of-type {\n",
              "        vertical-align: middle;\n",
              "    }\n",
              "\n",
              "    .dataframe tbody tr th {\n",
              "        vertical-align: top;\n",
              "    }\n",
              "\n",
              "    .dataframe thead th {\n",
              "        text-align: right;\n",
              "    }\n",
              "</style>\n",
              "<table border=\"1\" class=\"dataframe\">\n",
              "  <thead>\n",
              "    <tr style=\"text-align: right;\">\n",
              "      <th></th>\n",
              "      <th>preg</th>\n",
              "      <th>plas</th>\n",
              "      <th>pres</th>\n",
              "      <th>skin</th>\n",
              "      <th>test</th>\n",
              "      <th>mass</th>\n",
              "      <th>pedi</th>\n",
              "      <th>age</th>\n",
              "      <th>class</th>\n",
              "    </tr>\n",
              "  </thead>\n",
              "  <tbody>\n",
              "    <tr>\n",
              "      <th>count</th>\n",
              "      <td>768.00</td>\n",
              "      <td>768.00</td>\n",
              "      <td>768.00</td>\n",
              "      <td>768.00</td>\n",
              "      <td>768.00</td>\n",
              "      <td>768.00</td>\n",
              "      <td>768.00</td>\n",
              "      <td>768.00</td>\n",
              "      <td>768.00</td>\n",
              "    </tr>\n",
              "    <tr>\n",
              "      <th>mean</th>\n",
              "      <td>3.85</td>\n",
              "      <td>120.89</td>\n",
              "      <td>69.11</td>\n",
              "      <td>20.54</td>\n",
              "      <td>79.80</td>\n",
              "      <td>31.99</td>\n",
              "      <td>0.47</td>\n",
              "      <td>33.24</td>\n",
              "      <td>0.35</td>\n",
              "    </tr>\n",
              "    <tr>\n",
              "      <th>std</th>\n",
              "      <td>3.37</td>\n",
              "      <td>31.97</td>\n",
              "      <td>19.36</td>\n",
              "      <td>15.95</td>\n",
              "      <td>115.24</td>\n",
              "      <td>7.88</td>\n",
              "      <td>0.33</td>\n",
              "      <td>11.76</td>\n",
              "      <td>0.48</td>\n",
              "    </tr>\n",
              "    <tr>\n",
              "      <th>min</th>\n",
              "      <td>0.00</td>\n",
              "      <td>0.00</td>\n",
              "      <td>0.00</td>\n",
              "      <td>0.00</td>\n",
              "      <td>0.00</td>\n",
              "      <td>0.00</td>\n",
              "      <td>0.08</td>\n",
              "      <td>21.00</td>\n",
              "      <td>0.00</td>\n",
              "    </tr>\n",
              "    <tr>\n",
              "      <th>25%</th>\n",
              "      <td>1.00</td>\n",
              "      <td>99.00</td>\n",
              "      <td>62.00</td>\n",
              "      <td>0.00</td>\n",
              "      <td>0.00</td>\n",
              "      <td>27.30</td>\n",
              "      <td>0.24</td>\n",
              "      <td>24.00</td>\n",
              "      <td>0.00</td>\n",
              "    </tr>\n",
              "    <tr>\n",
              "      <th>50%</th>\n",
              "      <td>3.00</td>\n",
              "      <td>117.00</td>\n",
              "      <td>72.00</td>\n",
              "      <td>23.00</td>\n",
              "      <td>30.50</td>\n",
              "      <td>32.00</td>\n",
              "      <td>0.37</td>\n",
              "      <td>29.00</td>\n",
              "      <td>0.00</td>\n",
              "    </tr>\n",
              "    <tr>\n",
              "      <th>75%</th>\n",
              "      <td>6.00</td>\n",
              "      <td>140.25</td>\n",
              "      <td>80.00</td>\n",
              "      <td>32.00</td>\n",
              "      <td>127.25</td>\n",
              "      <td>36.60</td>\n",
              "      <td>0.63</td>\n",
              "      <td>41.00</td>\n",
              "      <td>1.00</td>\n",
              "    </tr>\n",
              "    <tr>\n",
              "      <th>max</th>\n",
              "      <td>17.00</td>\n",
              "      <td>199.00</td>\n",
              "      <td>122.00</td>\n",
              "      <td>99.00</td>\n",
              "      <td>846.00</td>\n",
              "      <td>67.10</td>\n",
              "      <td>2.42</td>\n",
              "      <td>81.00</td>\n",
              "      <td>1.00</td>\n",
              "    </tr>\n",
              "  </tbody>\n",
              "</table>\n",
              "</div>"
            ],
            "text/plain": [
              "         preg    plas    pres    skin    test    mass    pedi     age   class\n",
              "count  768.00  768.00  768.00  768.00  768.00  768.00  768.00  768.00  768.00\n",
              "mean     3.85  120.89   69.11   20.54   79.80   31.99    0.47   33.24    0.35\n",
              "std      3.37   31.97   19.36   15.95  115.24    7.88    0.33   11.76    0.48\n",
              "min      0.00    0.00    0.00    0.00    0.00    0.00    0.08   21.00    0.00\n",
              "25%      1.00   99.00   62.00    0.00    0.00   27.30    0.24   24.00    0.00\n",
              "50%      3.00  117.00   72.00   23.00   30.50   32.00    0.37   29.00    0.00\n",
              "75%      6.00  140.25   80.00   32.00  127.25   36.60    0.63   41.00    1.00\n",
              "max     17.00  199.00  122.00   99.00  846.00   67.10    2.42   81.00    1.00"
            ]
          },
          "metadata": {
            "tags": []
          },
          "execution_count": 15
        }
      ]
    },
    {
      "cell_type": "code",
      "metadata": {
        "colab": {
          "base_uri": "https://localhost:8080/"
        },
        "id": "bjtdTyGxmqkF",
        "outputId": "d3b48bc9-8d70-42e0-af38-016cb17b0cff"
      },
      "source": [
        "count_class = data.groupby('class').size()\r\n",
        "print(count_class)\r\n",
        "data.groupby('class').size()"
      ],
      "execution_count": 17,
      "outputs": [
        {
          "output_type": "stream",
          "text": [
            "class\n",
            "0    500\n",
            "1    268\n",
            "dtype: int64\n"
          ],
          "name": "stdout"
        },
        {
          "output_type": "execute_result",
          "data": {
            "text/plain": [
              "class\n",
              "0    500\n",
              "1    268\n",
              "dtype: int64"
            ]
          },
          "metadata": {
            "tags": []
          },
          "execution_count": 17
        }
      ]
    },
    {
      "cell_type": "code",
      "metadata": {
        "colab": {
          "base_uri": "https://localhost:8080/"
        },
        "id": "xvLQEF_NnAU6",
        "outputId": "ae472848-d9f1-4535-c5e5-e484c9e4e2da"
      },
      "source": [
        "correlations = data.corr(method='pearson')\r\n",
        "print(correlations)\r\n"
      ],
      "execution_count": 24,
      "outputs": [
        {
          "output_type": "stream",
          "text": [
            "       preg  plas  pres  skin  test  mass  pedi   age  class\n",
            "preg   1.00  0.13  0.14 -0.08 -0.07  0.02 -0.03  0.54   0.22\n",
            "plas   0.13  1.00  0.15  0.06  0.33  0.22  0.14  0.26   0.47\n",
            "pres   0.14  0.15  1.00  0.21  0.09  0.28  0.04  0.24   0.07\n",
            "skin  -0.08  0.06  0.21  1.00  0.44  0.39  0.18 -0.11   0.07\n",
            "test  -0.07  0.33  0.09  0.44  1.00  0.20  0.19 -0.04   0.13\n",
            "mass   0.02  0.22  0.28  0.39  0.20  1.00  0.14  0.04   0.29\n",
            "pedi  -0.03  0.14  0.04  0.18  0.19  0.14  1.00  0.03   0.17\n",
            "age    0.54  0.26  0.24 -0.11 -0.04  0.04  0.03  1.00   0.24\n",
            "class  0.22  0.47  0.07  0.07  0.13  0.29  0.17  0.24   1.00\n"
          ],
          "name": "stdout"
        }
      ]
    },
    {
      "cell_type": "code",
      "metadata": {
        "colab": {
          "base_uri": "https://localhost:8080/"
        },
        "id": "KdgUJ2XNnWfG",
        "outputId": "3528a6bb-dbab-4011-f476-931c8b3ab5a9"
      },
      "source": [
        "print(data.skew())\r\n"
      ],
      "execution_count": 19,
      "outputs": [
        {
          "output_type": "stream",
          "text": [
            "preg     0.90\n",
            "plas     0.17\n",
            "pres    -1.84\n",
            "skin     0.11\n",
            "test     2.27\n",
            "mass    -0.43\n",
            "pedi     1.92\n",
            "age      1.13\n",
            "class    0.64\n",
            "dtype: float64\n"
          ],
          "name": "stdout"
        }
      ]
    },
    {
      "cell_type": "code",
      "metadata": {
        "colab": {
          "base_uri": "https://localhost:8080/"
        },
        "id": "NwzazmPoo7bZ",
        "outputId": "ce21b7ab-7ce8-4457-c121-d67300c06195"
      },
      "source": [
        "from numpy import set_printoptions\r\n",
        "from numpy import set_printoptions\r\n",
        "from sklearn import preprocessing\r\n",
        "#Scaling\r\n",
        "array = data.values\r\n",
        "data_scaler = preprocessing.MinMaxScaler(feature_range=(0,1))\r\n",
        "data_rescaled = data_scaler.fit_transform(array)\r\n",
        "set_printoptions(precision=1)\r\n",
        "print (\"\\nScaled data:\\n\", data_rescaled[0:10])\r\n"
      ],
      "execution_count": 32,
      "outputs": [
        {
          "output_type": "stream",
          "text": [
            "\n",
            "Scaled data:\n",
            " [[0.4 0.7 0.6 0.4 0.  0.5 0.2 0.5 1. ]\n",
            " [0.1 0.4 0.5 0.3 0.  0.4 0.1 0.2 0. ]\n",
            " [0.5 0.9 0.5 0.  0.  0.3 0.3 0.2 1. ]\n",
            " [0.1 0.4 0.5 0.2 0.1 0.4 0.  0.  0. ]\n",
            " [0.  0.7 0.3 0.4 0.2 0.6 0.9 0.2 1. ]\n",
            " [0.3 0.6 0.6 0.  0.  0.4 0.1 0.2 0. ]\n",
            " [0.2 0.4 0.4 0.3 0.1 0.5 0.1 0.1 1. ]\n",
            " [0.6 0.6 0.  0.  0.  0.5 0.  0.1 0. ]\n",
            " [0.1 1.  0.6 0.5 0.6 0.5 0.  0.5 1. ]\n",
            " [0.5 0.6 0.8 0.  0.  0.  0.1 0.6 1. ]]\n"
          ],
          "name": "stdout"
        }
      ]
    },
    {
      "cell_type": "code",
      "metadata": {
        "colab": {
          "base_uri": "https://localhost:8080/"
        },
        "id": "LiHVn0p2rFB3",
        "outputId": "a2d04801-6938-4c61-8d50-991a59108c8d"
      },
      "source": [
        "#Normalization\r\n",
        "from sklearn.preprocessing import Normalizer\r\n",
        "array = data.values\r\n",
        "data_norm = Normalizer(norm='l2').fit(array)\r\n",
        "result = data_norm.transform(array)\r\n",
        "set_printoptions(precision=2)\r\n",
        "print('\\nNormalized Data',result[0:10])"
      ],
      "execution_count": 36,
      "outputs": [
        {
          "output_type": "stream",
          "text": [
            "\n",
            "Normalized Data [[3.36e-02 8.28e-01 4.03e-01 1.96e-01 0.00e+00 1.88e-01 3.51e-03 2.80e-01\n",
            "  5.59e-03]\n",
            " [8.42e-03 7.16e-01 5.56e-01 2.44e-01 0.00e+00 2.24e-01 2.96e-03 2.61e-01\n",
            "  0.00e+00]\n",
            " [4.04e-02 9.24e-01 3.23e-01 0.00e+00 0.00e+00 1.18e-01 3.39e-03 1.62e-01\n",
            "  5.05e-03]\n",
            " [6.61e-03 5.88e-01 4.36e-01 1.52e-01 6.22e-01 1.86e-01 1.10e-03 1.39e-01\n",
            "  0.00e+00]\n",
            " [0.00e+00 5.96e-01 1.74e-01 1.52e-01 7.31e-01 1.88e-01 9.96e-03 1.44e-01\n",
            "  4.35e-03]\n",
            " [3.49e-02 8.10e-01 5.17e-01 0.00e+00 0.00e+00 1.79e-01 1.40e-03 2.09e-01\n",
            "  0.00e+00]\n",
            " [2.18e-02 5.66e-01 3.63e-01 2.32e-01 6.38e-01 2.25e-01 1.80e-03 1.89e-01\n",
            "  7.25e-03]\n",
            " [8.06e-02 9.26e-01 0.00e+00 0.00e+00 0.00e+00 2.84e-01 1.08e-03 2.34e-01\n",
            "  0.00e+00]\n",
            " [3.41e-03 3.36e-01 1.19e-01 7.67e-02 9.25e-01 5.20e-02 2.69e-04 9.03e-02\n",
            "  1.70e-03]\n",
            " [4.80e-02 7.49e-01 5.76e-01 0.00e+00 0.00e+00 0.00e+00 1.39e-03 3.24e-01\n",
            "  6.00e-03]]\n"
          ],
          "name": "stdout"
        }
      ]
    },
    {
      "cell_type": "code",
      "metadata": {
        "colab": {
          "base_uri": "https://localhost:8080/"
        },
        "id": "qF_sebcOtYXI",
        "outputId": "a9debe5b-01b2-4079-b537-f7284c3c6f0c"
      },
      "source": [
        "from sklearn.preprocessing import Binarizer\r\n",
        "data_binarized = Binarizer(threshold=0.5).fit(array).transform(array)\r\n",
        "print('\\nBinarized Data: ',data_binarized[0:10])"
      ],
      "execution_count": 38,
      "outputs": [
        {
          "output_type": "stream",
          "text": [
            "\n",
            "Binarized Data:  [[1. 1. 1. 1. 0. 1. 1. 1. 1.]\n",
            " [1. 1. 1. 1. 0. 1. 0. 1. 0.]\n",
            " [1. 1. 1. 0. 0. 1. 1. 1. 1.]\n",
            " [1. 1. 1. 1. 1. 1. 0. 1. 0.]\n",
            " [0. 1. 1. 1. 1. 1. 1. 1. 1.]\n",
            " [1. 1. 1. 0. 0. 1. 0. 1. 0.]\n",
            " [1. 1. 1. 1. 1. 1. 0. 1. 1.]\n",
            " [1. 1. 0. 0. 0. 1. 0. 1. 0.]\n",
            " [1. 1. 1. 1. 1. 1. 0. 1. 1.]\n",
            " [1. 1. 1. 0. 0. 0. 0. 1. 1.]]\n"
          ],
          "name": "stdout"
        }
      ]
    },
    {
      "cell_type": "code",
      "metadata": {
        "colab": {
          "base_uri": "https://localhost:8080/"
        },
        "id": "QXyV7JB7xbU-",
        "outputId": "1fee89ba-ce4e-4748-897f-e96eb8ebbb73"
      },
      "source": [
        "from sklearn.preprocessing import StandardScaler\r\n",
        "\r\n",
        "data_scaled2 = StandardScaler().fit(array).transform(array)\r\n",
        "print('\\nStandard Scaled Data:',data_scaled2[0:10])"
      ],
      "execution_count": 40,
      "outputs": [
        {
          "output_type": "stream",
          "text": [
            "\n",
            "Standard Scaled Data: [[ 0.64  0.85  0.15  0.91 -0.69  0.2   0.47  1.43  1.37]\n",
            " [-0.84 -1.12 -0.16  0.53 -0.69 -0.68 -0.37 -0.19 -0.73]\n",
            " [ 1.23  1.94 -0.26 -1.29 -0.69 -1.1   0.6  -0.11  1.37]\n",
            " [-0.84 -1.   -0.16  0.15  0.12 -0.49 -0.92 -1.04 -0.73]\n",
            " [-1.14  0.5  -1.5   0.91  0.77  1.41  5.48 -0.02  1.37]\n",
            " [ 0.34 -0.15  0.25 -1.29 -0.69 -0.81 -0.82 -0.28 -0.73]\n",
            " [-0.25 -1.34 -0.99  0.72  0.07 -0.13 -0.68 -0.62  1.37]\n",
            " [ 1.83 -0.18 -3.57 -1.29 -0.69  0.42 -1.02 -0.36 -0.73]\n",
            " [-0.55  2.38  0.05  1.53  4.02 -0.19 -0.95  1.68  1.37]\n",
            " [ 1.23  0.13  1.39 -1.29 -0.69 -4.06 -0.72  1.77  1.37]]\n"
          ],
          "name": "stdout"
        }
      ]
    },
    {
      "cell_type": "markdown",
      "metadata": {
        "id": "mIPAkLmVyGyU"
      },
      "source": [
        "# New Section"
      ]
    }
  ]
}